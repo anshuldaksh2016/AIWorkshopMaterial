{
  "nbformat": 4,
  "nbformat_minor": 0,
  "metadata": {
    "colab": {
      "name": "WebScraping.ipynb",
      "provenance": [],
      "collapsed_sections": [],
      "authorship_tag": "ABX9TyO/JweCnjOzed4xHx4huwzl",
      "include_colab_link": true
    },
    "kernelspec": {
      "name": "python3",
      "display_name": "Python 3"
    }
  },
  "cells": [
    {
      "cell_type": "markdown",
      "metadata": {
        "id": "view-in-github",
        "colab_type": "text"
      },
      "source": [
        "<a href=\"https://colab.research.google.com/github/geekanshul/AIWorkshopMaterial/blob/master/WebScraping_and_NLPintro.ipynb\" target=\"_parent\"><img src=\"https://colab.research.google.com/assets/colab-badge.svg\" alt=\"Open In Colab\"/></a>"
      ]
    },
    {
      "cell_type": "code",
      "metadata": {
        "id": "1FtZTxCFYups",
        "colab_type": "code",
        "outputId": "20dd5020-fae3-4c6f-b80c-1ab1895abd8c",
        "colab": {
          "base_uri": "https://localhost:8080/",
          "height": 54
        }
      },
      "source": [
        "from urllib import request  # for downloading the data from url\n",
        "from bs4 import BeautifulSoup # for souping\n",
        "import re # importing the regular expression\n",
        "\n",
        "# pointing to the url\n",
        "url = \"https://en.wikipedia.org/wiki/Machine_learning\"\n",
        "#url1 = \"https://www.who.int/emergencies/diseases/novel-coronavirus-2019\"\n",
        "\n",
        "html_data = request.urlopen(url)\n",
        "\n",
        "#html_data.read() # it will download data in html format\n",
        "soupdata = BeautifulSoup(html_data,'html5lib')\n",
        "# html data , html parser-- \n",
        "# html parser collection of html tags that can scrap data from a particular taf like h1 p or a\n",
        "\n",
        "#soupdata\n",
        "# now selecting a particaular tag to scrap data\n",
        "all_data = soupdata.findAll('p')\n",
        "#print(all_data)\n",
        "\n",
        "# now converting the data \n",
        "import time\n",
        "mydata = \"\"\n",
        "for i in all_data:\n",
        "  mydata+= i.text\n",
        "\n",
        "print(mydata)\n",
        "  \n",
        "# data cleaning\n",
        "\n",
        "\n"
      ],
      "execution_count": 0,
      "outputs": [
        {
          "output_type": "stream",
          "text": [
            "Protect yourselfCountry & technical guidanceLatest updates - Live press conference (Geneva)WHO Director-General's opening remarks at the media briefing on COVID-19 - 25 March 202025 March 2020 I SpeechWHO Director General's remarks Launch of Appeal: Global Humanitarian Response Plan - 25 March 202025 March 2020 I SpeechUN issues $2 billion appeal to combat COVID-1925 March 2020 I News ReleaseYour questions answeredTravel adviceSituation reportsMedia resourcesResearch and DevelopmentMythbustersEPI-WINInfodemic ManagementWhat is a coronavirus? →How to protect yourself →Myth-busters →Travel advice →Questions & answers →See all COVID-19 videos →Training and e-learning →COVID-19 and noncommunicable diseases →Situation reports → Here you will find the latest situation updates and data regarding the COVID-19 outbreak.Disease Outbreak News →Since 21 January 2020, Disease Outbreak News have been replaced with daily situation reports.COVID-19 situation dashboard → Global situation dashboard → Report of the WHO-China Joint Mission →COVID-19 situation update for the WHO European Region  →See progress of contributionsStrategic Preparedness and Response PlanDonor AlertFebruary 2020Partners and Networks →Contingency fund for emergencies →United Nations website on coronavirus →Update on research activities for novel coronavirus → WHO's R&D Blueprint has been activated to accelerate diagnostics, vaccines and therapeutics for this outbreak.International Clinical Trials Registry Platform → COVID-19 outbreak – Emergency Use Listing Procedure (EUL) announcement →  \n"
          ],
          "name": "stdout"
        }
      ]
    },
    {
      "cell_type": "code",
      "metadata": {
        "id": "I4xyR6Niedg6",
        "colab_type": "code",
        "outputId": "347b9bf0-cc83-43d6-9734-c48755ccf6ed",
        "colab": {
          "base_uri": "https://localhost:8080/",
          "height": 71
        }
      },
      "source": [
        "# data cleaning\n",
        "clean_data = re.sub(r'\\[[0-9]*\\]',' ',mydata)\n",
        "# this will remove 0 or more times number appearing in a my data\n",
        "clean_data = re.sub(r'\\s+',' ',clean_data) # s for single space\n",
        "# it will remove one or more   white spaces with single white space\n",
        "\n",
        "clean_data = re.sub(r'[^a-zA-Z]',' ',clean_data) # it will remove single characters from starting of the line\n",
        "clean_data = re.sub(r'\\s+',' ',clean_data)\n",
        "\n",
        "print(clean_data)\n",
        "print(type(clean_data))"
      ],
      "execution_count": 0,
      "outputs": [
        {
          "output_type": "stream",
          "text": [
            "Protect yourselfCountry technical guidanceLatest updates Live press conference Geneva WHO Director General s opening remarks at the media briefing on COVID March March I SpeechWHO Director General s remarks Launch of Appeal Global Humanitarian Response Plan March March I SpeechUN issues billion appeal to combat COVID March I News ReleaseYour questions answeredTravel adviceSituation reportsMedia resourcesResearch and DevelopmentMythbustersEPI WINInfodemic ManagementWhat is a coronavirus How to protect yourself Myth busters Travel advice Questions answers See all COVID videos Training and e learning COVID and noncommunicable diseases Situation reports Here you will find the latest situation updates and data regarding the COVID outbreak Disease Outbreak News Since January Disease Outbreak News have been replaced with daily situation reports COVID situation dashboard Global situation dashboard Report of the WHO China Joint Mission COVID situation update for the WHO European Region See progress of contributionsStrategic Preparedness and Response PlanDonor AlertFebruary Partners and Networks Contingency fund for emergencies United Nations website on coronavirus Update on research activities for novel coronavirus WHO s R D Blueprint has been activated to accelerate diagnostics vaccines and therapeutics for this outbreak International Clinical Trials Registry Platform COVID outbreak Emergency Use Listing Procedure EUL announcement \n",
            "<class 'str'>\n"
          ],
          "name": "stdout"
        }
      ]
    },
    {
      "cell_type": "code",
      "metadata": {
        "id": "mTHQ_6H1teXB",
        "colab_type": "code",
        "colab": {}
      },
      "source": [
        "# now lets deal with string \n",
        "import time\n",
        "newdata = clean_data.split() # split means conversion of string to list\n",
        "# for w in newdata:\n",
        "#   print(w)\n",
        "#   time.sleep(1)\n",
        "\n",
        "# deal with the data with machine learning and deep learning"
      ],
      "execution_count": 0,
      "outputs": []
    },
    {
      "cell_type": "code",
      "metadata": {
        "id": "FPe7hd8awpwR",
        "colab_type": "code",
        "outputId": "76ff5877-146c-4b2d-ddbf-9bc7bbc9ce8d",
        "colab": {
          "base_uri": "https://localhost:8080/",
          "height": 34
        }
      },
      "source": [
        "print(type(newdata))"
      ],
      "execution_count": 0,
      "outputs": [
        {
          "output_type": "stream",
          "text": [
            "<class 'list'>\n"
          ],
          "name": "stdout"
        }
      ]
    },
    {
      "cell_type": "code",
      "metadata": {
        "id": "MQO2z6Hzw87h",
        "colab_type": "code",
        "colab": {}
      },
      "source": [
        "# deal with data using the NLTK natural language toolkit\n"
      ],
      "execution_count": 0,
      "outputs": []
    },
    {
      "cell_type": "code",
      "metadata": {
        "id": "iUV7f4LK295x",
        "colab_type": "code",
        "outputId": "eb4fe01b-3d35-402d-92ea-2a5a6e9fa963",
        "colab": {
          "base_uri": "https://localhost:8080/",
          "height": 51
        }
      },
      "source": [
        "# install NLTK\n",
        "!pip install nltk\n"
      ],
      "execution_count": 0,
      "outputs": [
        {
          "output_type": "stream",
          "text": [
            "Requirement already satisfied: nltk in /usr/local/lib/python3.6/dist-packages (3.2.5)\n",
            "Requirement already satisfied: six in /usr/local/lib/python3.6/dist-packages (from nltk) (1.12.0)\n"
          ],
          "name": "stdout"
        }
      ]
    },
    {
      "cell_type": "code",
      "metadata": {
        "id": "PmqlhAgl3D3x",
        "colab_type": "code",
        "colab": {}
      },
      "source": [
        "import nltk\n",
        "# downloading all dictionaries for computer \n",
        "#nltk.download('all')"
      ],
      "execution_count": 0,
      "outputs": []
    },
    {
      "cell_type": "code",
      "metadata": {
        "id": "zC0U-m8g3ZHh",
        "colab_type": "code",
        "outputId": "bc3e9208-d312-446b-d534-af32ff1d81b1",
        "colab": {
          "base_uri": "https://localhost:8080/",
          "height": 386
        }
      },
      "source": [
        "#first remove the stop words\n",
        "my_pure_data = []\n",
        "from nltk.corpus import stopwords\n",
        "\n",
        "\n",
        "for i in newdata:\n",
        "\n",
        "  if i.lower() not in stopwords.words('english'):\n",
        "\n",
        "    my_pure_data.append(i)\n",
        "\n",
        "\n",
        "print(my_pure_data)\n",
        "\n",
        "\n",
        "freq_data = nltk.FreqDist(my_pure_data)\n",
        "freq_data.plot(20) # top 20 words having the mst word count\n"
      ],
      "execution_count": 0,
      "outputs": [
        {
          "output_type": "stream",
          "text": [
            "['Protect', 'yourselfCountry', 'technical', 'guidanceLatest', 'updates', 'Live', 'press', 'conference', 'Geneva', 'Director', 'General', 'opening', 'remarks', 'media', 'briefing', 'COVID', 'March', 'March', 'SpeechWHO', 'Director', 'General', 'remarks', 'Launch', 'Appeal', 'Global', 'Humanitarian', 'Response', 'Plan', 'March', 'March', 'SpeechUN', 'issues', 'billion', 'appeal', 'combat', 'COVID', 'March', 'News', 'ReleaseYour', 'questions', 'answeredTravel', 'adviceSituation', 'reportsMedia', 'resourcesResearch', 'DevelopmentMythbustersEPI', 'WINInfodemic', 'ManagementWhat', 'coronavirus', 'protect', 'Myth', 'busters', 'Travel', 'advice', 'Questions', 'answers', 'See', 'COVID', 'videos', 'Training', 'e', 'learning', 'COVID', 'noncommunicable', 'diseases', 'Situation', 'reports', 'find', 'latest', 'situation', 'updates', 'data', 'regarding', 'COVID', 'outbreak', 'Disease', 'Outbreak', 'News', 'Since', 'January', 'Disease', 'Outbreak', 'News', 'replaced', 'daily', 'situation', 'reports', 'COVID', 'situation', 'dashboard', 'Global', 'situation', 'dashboard', 'Report', 'China', 'Joint', 'Mission', 'COVID', 'situation', 'update', 'European', 'Region', 'See', 'progress', 'contributionsStrategic', 'Preparedness', 'Response', 'PlanDonor', 'AlertFebruary', 'Partners', 'Networks', 'Contingency', 'fund', 'emergencies', 'United', 'Nations', 'website', 'coronavirus', 'Update', 'research', 'activities', 'novel', 'coronavirus', 'R', 'Blueprint', 'activated', 'accelerate', 'diagnostics', 'vaccines', 'therapeutics', 'outbreak', 'International', 'Clinical', 'Trials', 'Registry', 'Platform', 'COVID', 'outbreak', 'Emergency', 'Use', 'Listing', 'Procedure', 'EUL', 'announcement']\n"
          ],
          "name": "stdout"
        },
        {
          "output_type": "display_data",
          "data": {
            "image/png": "[encoded data removed]",
            "text/plain": [
              "<Figure size 432x288 with 1 Axes>"
            ]
          },
          "metadata": {
            "tags": []
          }
        }
      ]
    },
    {
      "cell_type": "code",
      "metadata": {
        "id": "YJWkB3f748Fj",
        "colab_type": "code",
        "colab": {}
      },
      "source": [
        ""
      ],
      "execution_count": 0,
      "outputs": []
    }
  ]
}