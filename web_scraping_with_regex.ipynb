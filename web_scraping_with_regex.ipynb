# data cleaning
clean_data = re.sub(r'\[[0-9]*\]',' ',mydata)
# this will remove 0 or more times number appearing in a my data
clean_data = re.sub(r'\s+',' ',clean_data) # s for single space
# it will remove one or more   white spaces with single white space

clean_data = re.sub(r'[^a-zA-Z]',' ',clean_data) # it will remove single characters from starting of the line
clean_data = re.sub(r'\s+',' ',clean_data)

print(clean_data)
print(type(clean_data))
