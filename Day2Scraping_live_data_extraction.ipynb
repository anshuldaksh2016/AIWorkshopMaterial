{
  "nbformat": 4,
  "nbformat_minor": 0,
  "metadata": {
    "colab": {
      "name": "Day2Scraping.ipynb",
      "provenance": [],
      "collapsed_sections": [],
      "authorship_tag": "ABX9TyNmk35LwGDEnSIWdxgrGeiK",
      "include_colab_link": true
    },
    "kernelspec": {
      "name": "python3",
      "display_name": "Python 3"
    }
  },
  "cells": [
    {
      "cell_type": "markdown",
      "metadata": {
        "id": "view-in-github",
        "colab_type": "text"
      },
      "source": [
        "<a href=\"https://colab.research.google.com/github/geekanshul/AIWorkshopMaterial/blob/master/Day2Scraping_live_data_extraction.ipynb\" target=\"_parent\"><img src=\"https://colab.research.google.com/assets/colab-badge.svg\" alt=\"Open In Colab\"/></a>"
      ]
    },
    {
      "cell_type": "code",
      "metadata": {
        "id": "NjEZAz-vYofa",
        "colab_type": "code",
        "colab": {}
      },
      "source": [
        "# importing the modules \n",
        "from bs4 import BeautifulSoup # web Scraping\n",
        "import requests # replacement of url lib\n",
        "import time\n",
        "# to give some delay message"
      ],
      "execution_count": 0,
      "outputs": []
    },
    {
      "cell_type": "code",
      "metadata": {
        "id": "37BaKIdaZHiv",
        "colab_type": "code",
        "colab": {}
      },
      "source": [
        "# Taking the corona Live dataset\n",
        "url = 'https://www.worldometers.info/coronavirus/'\n",
        "# getting the data from the source data connecting https protocol \n",
        "htmlpage = requests.get(url)\n"
      ],
      "execution_count": 0,
      "outputs": []
    },
    {
      "cell_type": "code",
      "metadata": {
        "id": "A7qfbGZKZuAd",
        "colab_type": "code",
        "colab": {}
      },
      "source": [
        "# print info\n",
        "#print(htmlpage.text)\n",
        "# print(htmlpage.content) more html format data \n",
        "purehtmlpage=htmlpage.content\n",
        "# souping below\n",
        "soup = BeautifulSoup(purehtmlpage,'html5lib')"
      ],
      "execution_count": 0,
      "outputs": []
    },
    {
      "cell_type": "code",
      "metadata": {
        "id": "IcagV3scZ2tp",
        "colab_type": "code",
        "colab": {
          "base_uri": "https://localhost:8080/",
          "height": 34
        },
        "outputId": "3f044ada-db17-44a2-ab0f-36fd8752b922"
      },
      "source": [
        "print(type(soup))"
      ],
      "execution_count": 16,
      "outputs": [
        {
          "output_type": "stream",
          "text": [
            "<class 'bs4.BeautifulSoup'>\n"
          ],
          "name": "stdout"
        }
      ]
    },
    {
      "cell_type": "code",
      "metadata": {
        "id": "D5QIDzreasYK",
        "colab_type": "code",
        "colab": {}
      },
      "source": [
        "tb = soup.find_all('table',class_='table table-bordered table-hover main_table_countries')\n",
        "\n"
      ],
      "execution_count": 0,
      "outputs": []
    },
    {
      "cell_type": "code",
      "metadata": {
        "id": "D1uNQoG-b6uG",
        "colab_type": "code",
        "colab": {
          "base_uri": "https://localhost:8080/",
          "height": 194
        },
        "outputId": "3c407453-eecf-4429-fdc6-0f642483975e"
      },
      "source": [
        "# finding all table rows\n",
        "for trr in tb[0].find_all('tr'):\n",
        "  for rows in trr.find_all('th'):\n",
        "    print(rows.text)\n"
      ],
      "execution_count": 18,
      "outputs": [
        {
          "output_type": "stream",
          "text": [
            "Country,Other\n",
            "TotalCases\n",
            "NewCases\n",
            "TotalDeaths\n",
            "NewDeaths\n",
            "TotalRecovered\n",
            "ActiveCases\n",
            "Serious,Critical\n",
            "Tot Cases/1M pop\n",
            "Tot Deaths/1M pop\n"
          ],
          "name": "stdout"
        }
      ]
    },
    {
      "cell_type": "code",
      "metadata": {
        "id": "QffPVL0WdVpj",
        "colab_type": "code",
        "colab": {
          "base_uri": "https://localhost:8080/",
          "height": 718
        },
        "outputId": "fbc17cfe-245b-4638-897c-598e28fb72c5"
      },
      "source": [
        "# Now scraping the data for each row with normal country data\n",
        "for trr1 in tb[0].find_all('tr'):\n",
        "  for rows in trr1.find_all('td'):\n",
        "    print(rows.text)\n",
        "    time.sleep(1)\n",
        "\n"
      ],
      "execution_count": 19,
      "outputs": [
        {
          "output_type": "stream",
          "text": [
            "China\n",
            "81,340\n",
            "+55\n",
            "3,292                                \n",
            "+5\n",
            "74,588\n",
            "3,460\n",
            "1,034\n",
            "57\n",
            "2\n",
            "USA\n",
            "85,612\n",
            "+177\n",
            "1,301                                \n",
            "+6\n",
            "1,868\n",
            "82,443\n",
            "2,122\n",
            "259\n",
            "4\n",
            "Italy\n",
            "80,589\n",
            "\n",
            "8,215                                \n",
            "\n",
            "10,361\n",
            "62,013\n",
            "3,612\n"
          ],
          "name": "stdout"
        },
        {
          "output_type": "error",
          "ename": "KeyboardInterrupt",
          "evalue": "ignored",
          "traceback": [
            "\u001b[0;31m---------------------------------------------------------------------------\u001b[0m",
            "\u001b[0;31mKeyboardInterrupt\u001b[0m                         Traceback (most recent call last)",
            "\u001b[0;32m<ipython-input-19-55798e588dda>\u001b[0m in \u001b[0;36m<module>\u001b[0;34m()\u001b[0m\n\u001b[1;32m      2\u001b[0m   \u001b[0;32mfor\u001b[0m \u001b[0mrows\u001b[0m \u001b[0;32min\u001b[0m \u001b[0mtrr1\u001b[0m\u001b[0;34m.\u001b[0m\u001b[0mfind_all\u001b[0m\u001b[0;34m(\u001b[0m\u001b[0;34m'td'\u001b[0m\u001b[0;34m)\u001b[0m\u001b[0;34m:\u001b[0m\u001b[0;34m\u001b[0m\u001b[0;34m\u001b[0m\u001b[0m\n\u001b[1;32m      3\u001b[0m     \u001b[0mprint\u001b[0m\u001b[0;34m(\u001b[0m\u001b[0mrows\u001b[0m\u001b[0;34m.\u001b[0m\u001b[0mtext\u001b[0m\u001b[0;34m)\u001b[0m\u001b[0;34m\u001b[0m\u001b[0;34m\u001b[0m\u001b[0m\n\u001b[0;32m----> 4\u001b[0;31m     \u001b[0mtime\u001b[0m\u001b[0;34m.\u001b[0m\u001b[0msleep\u001b[0m\u001b[0;34m(\u001b[0m\u001b[0;36m1\u001b[0m\u001b[0;34m)\u001b[0m\u001b[0;34m\u001b[0m\u001b[0;34m\u001b[0m\u001b[0m\n\u001b[0m\u001b[1;32m      5\u001b[0m \u001b[0;34m\u001b[0m\u001b[0m\n",
            "\u001b[0;31mKeyboardInterrupt\u001b[0m: "
          ]
        }
      ]
    },
    {
      "cell_type": "code",
      "metadata": {
        "id": "yZy05zhTesAl",
        "colab_type": "code",
        "colab": {}
      },
      "source": [
        ""
      ],
      "execution_count": 0,
      "outputs": []
    }
  ]
}